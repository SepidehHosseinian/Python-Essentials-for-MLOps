{
 "cells": [
  {
   "attachments": {},
   "cell_type": "markdown",
   "metadata": {},
   "source": [
    "\n",
    "#### Try Azure ML Studio with a Service Principal\n",
    "\n",
    "This interactive Jupyter Notebook will allow you to setup infrastructure on Azure ML and authenticate using a Service Principal.\n",
    "\n",
    "Make sure you have enabled the following GitHub repository secrets:\n",
    "\n",
    "SUBSCRIPTION_ID\n",
    "AZURE_SERVICE_PRINCIPAL_TENANT\n",
    "AZURE_SERVICE_PRINCIPAL_APPID\n",
    "AZURE_SERVICE_PRINCIPAL_PASSWORD\n",
    "\n",
    "Optionally, you can add the following items to use a specific resource group, region, or existing workspace:\n",
    "\n",
    "WORKSPACE_REGION\n",
    "RESOURCE_GROUP\n",
    "WORKSPACE_NAME\n",
    "\n",
    "These are retrieved and set from the next cell\n"
   ]
  },
  {
   "cell_type": "code",
   "execution_count": 2,
   "metadata": {},
   "outputs": [
    {
     "ename": "KeyError",
     "evalue": "'SUBSCRIPTION_ID'",
     "output_type": "error",
     "traceback": [
      "\u001b[0;31m---------------------------------------------------------------------------\u001b[0m",
      "\u001b[0;31mKeyError\u001b[0m                                  Traceback (most recent call last)",
      "\u001b[0;32m/tmp/ipykernel_72284/2304479579.py\u001b[0m in \u001b[0;36m<module>\u001b[0;34m\u001b[0m\n\u001b[1;32m      2\u001b[0m \u001b[0;34m\u001b[0m\u001b[0m\n\u001b[1;32m      3\u001b[0m \u001b[0;31m# required\u001b[0m\u001b[0;34m\u001b[0m\u001b[0;34m\u001b[0m\u001b[0;34m\u001b[0m\u001b[0m\n\u001b[0;32m----> 4\u001b[0;31m \u001b[0msubscription_id\u001b[0m \u001b[0;34m=\u001b[0m \u001b[0mos\u001b[0m\u001b[0;34m.\u001b[0m\u001b[0menviron\u001b[0m\u001b[0;34m[\u001b[0m\u001b[0;34m\"SUBSCRIPTION_ID\"\u001b[0m\u001b[0;34m]\u001b[0m\u001b[0;34m\u001b[0m\u001b[0;34m\u001b[0m\u001b[0m\n\u001b[0m\u001b[1;32m      5\u001b[0m \u001b[0mtenant_id\u001b[0m \u001b[0;34m=\u001b[0m \u001b[0mos\u001b[0m\u001b[0;34m.\u001b[0m\u001b[0menviron\u001b[0m\u001b[0;34m[\u001b[0m\u001b[0;34m\"TENANT_ID\"\u001b[0m\u001b[0;34m]\u001b[0m\u001b[0;34m\u001b[0m\u001b[0;34m\u001b[0m\u001b[0m\n\u001b[1;32m      6\u001b[0m \u001b[0mservice_principal_id\u001b[0m \u001b[0;34m=\u001b[0m \u001b[0mos\u001b[0m\u001b[0;34m.\u001b[0m\u001b[0menviron\u001b[0m\u001b[0;34m[\u001b[0m\u001b[0;34m\"AZURE_SERVICE_PRINCIPAL_APPID\"\u001b[0m\u001b[0;34m]\u001b[0m\u001b[0;34m\u001b[0m\u001b[0;34m\u001b[0m\u001b[0m\n",
      "\u001b[0;32m~/anaconda3/lib/python3.7/os.py\u001b[0m in \u001b[0;36m__getitem__\u001b[0;34m(self, key)\u001b[0m\n\u001b[1;32m    677\u001b[0m         \u001b[0;32mexcept\u001b[0m \u001b[0mKeyError\u001b[0m\u001b[0;34m:\u001b[0m\u001b[0;34m\u001b[0m\u001b[0;34m\u001b[0m\u001b[0m\n\u001b[1;32m    678\u001b[0m             \u001b[0;31m# raise KeyError with the original key value\u001b[0m\u001b[0;34m\u001b[0m\u001b[0;34m\u001b[0m\u001b[0;34m\u001b[0m\u001b[0m\n\u001b[0;32m--> 679\u001b[0;31m             \u001b[0;32mraise\u001b[0m \u001b[0mKeyError\u001b[0m\u001b[0;34m(\u001b[0m\u001b[0mkey\u001b[0m\u001b[0;34m)\u001b[0m \u001b[0;32mfrom\u001b[0m \u001b[0;32mNone\u001b[0m\u001b[0;34m\u001b[0m\u001b[0;34m\u001b[0m\u001b[0m\n\u001b[0m\u001b[1;32m    680\u001b[0m         \u001b[0;32mreturn\u001b[0m \u001b[0mself\u001b[0m\u001b[0;34m.\u001b[0m\u001b[0mdecodevalue\u001b[0m\u001b[0;34m(\u001b[0m\u001b[0mvalue\u001b[0m\u001b[0;34m)\u001b[0m\u001b[0;34m\u001b[0m\u001b[0;34m\u001b[0m\u001b[0m\n\u001b[1;32m    681\u001b[0m \u001b[0;34m\u001b[0m\u001b[0m\n",
      "\u001b[0;31mKeyError\u001b[0m: 'SUBSCRIPTION_ID'"
     ]
    }
   ],
   "source": [
    "\n",
    "import os\n",
    "\n",
    "# required\n",
    "subscription_id = os.environ[\"SUBSCRIPTION_ID\"]\n",
    "tenant_id = os.environ[\"TENANT_ID\"]\n",
    "service_principal_id = os.environ[\"AZURE_SERVICE_PRINCIPAL_APPID\"]\n",
    "service_principal_password = os.environ[\"AZURE_SERVICE_PRINCIPAL_PASSWORD\"]\n",
    "\n",
    "# optional\n",
    "resource_group = os.getenv(\"RESOURCE_GROUP\", default=\"demo-try-azureml\")\n",
    "workspace_name = os.getenv(\"WORKSPACE_NAME\", default=\"demo-try-azureml\")\n",
    "workspace_region = os.getenv(\"WORKSPACE_REGION\", default=\"eastus2\")\n",
    "\n",
    "     \n"
   ]
  },
  {
   "attachments": {},
   "cell_type": "markdown",
   "metadata": {},
   "source": [
    "\n",
    "#### Define the Service Principal\n",
    "\n",
    "Use the environment variables to instantiate the Service Principal account so that it can be used to authenticate to Azure later\n"
   ]
  },
  {
   "cell_type": "code",
   "execution_count": null,
   "metadata": {},
   "outputs": [],
   "source": [
    "from azureml.core import Workspace\n",
    "from azureml.core.authentication import ServicePrincipalAuthentication\n",
    "\n",
    "service_principal = ServicePrincipalAuthentication(\n",
    "    tenant_id=tenant_id,\n",
    "    service_principal_id=service_principal_id,\n",
    "    service_principal_password=service_principal_password\n",
    ")"
   ]
  },
  {
   "attachments": {},
   "cell_type": "markdown",
   "metadata": {},
   "source": [
    "#### Create the workspace\n",
    "Use the previously created configuration file to create the Azure ML workspace"
   ]
  },
  {
   "cell_type": "code",
   "execution_count": null,
   "metadata": {},
   "outputs": [],
   "source": [
    "from azureml.core import Workspace\n",
    "\n",
    "try:\n",
    "    ws = Workspace(subscription_id = subscription_id, resource_group = resource_group, workspace_name = workspace_name)\n",
    "    # write the details of the workspace to a configuration file to the notebook library\n",
    "    ws.write_config()\n",
    "    print(\"Workspace configuration succeeded.\")\n",
    "except Exception:\n",
    "    print(\"Workspace not accessible. Ensure that Codespaces secrets are available, see first cell\")\n",
    "    raise"
   ]
  },
  {
   "cell_type": "code",
   "execution_count": null,
   "metadata": {},
   "outputs": [],
   "source": [
    "\n",
    "\n",
    "# Create the workspace using the specified parameters\n",
    "ws = Workspace.create(name = workspace_name,\n",
    "                      subscription_id = subscription_id,\n",
    "                      resource_group = resource_group, \n",
    "                      location = workspace_region,\n",
    "                      create_resource_group = True,\n",
    "                      exist_ok = True)\n",
    "ws.get_details()\n",
    "\n",
    "# write the details of the workspace to a configuration file to the notebook library\n",
    "ws.write_config()\n",
    "     \n"
   ]
  },
  {
   "cell_type": "code",
   "execution_count": null,
   "metadata": {},
   "outputs": [],
   "source": [
    "\n",
    "\n",
    "from azureml.core.compute import ComputeTarget, AmlCompute\n",
    "\n",
    "# define aml compute target(s) to create\n",
    "amlcomputes = {\n",
    "    \"cpu-cluster\": {\n",
    "        \"vm_size\": \"STANDARD_DS3_V2\",\n",
    "        \"min_nodes\": 0,\n",
    "        \"max_nodes\": 3,\n",
    "        \"idle_seconds_before_scaledown\": 240,\n",
    "    }\n",
    "}\n",
    "\n",
    "# create aml compute targets\n",
    "for ct_name in amlcomputes:\n",
    "    if ct_name not in ws.compute_targets:\n",
    "        compute_config = AmlCompute.provisioning_configuration(**amlcomputes[ct_name])\n",
    "        ct = ComputeTarget.create(ws, ct_name, compute_config)\n",
    "        ct.wait_for_completion(show_output=True)\n",
    "     \n"
   ]
  },
  {
   "attachments": {},
   "cell_type": "markdown",
   "metadata": {},
   "source": [
    "\n",
    "#### Perform exploratory work\n",
    "\n",
    "You can now interact with the Azure ML Workspace, like train models, register datasets and models, or create an AutoML run\n"
   ]
  },
  {
   "cell_type": "code",
   "execution_count": 1,
   "metadata": {},
   "outputs": [],
   "source": [
    "# exploratory work\n"
   ]
  },
  {
   "attachments": {},
   "cell_type": "markdown",
   "metadata": {},
   "source": [
    "\n",
    "#### Destroy workspace and resources\n",
    "\n",
    "The next cell will destroy all assets from the Azure ML workspace\n"
   ]
  },
  {
   "cell_type": "code",
   "execution_count": null,
   "metadata": {},
   "outputs": [],
   "source": [
    "ws.delete(delete_dependent_resources=True, no_wait=False)"
   ]
  }
 ],
 "metadata": {
  "kernelspec": {
   "display_name": "venv",
   "language": "python",
   "name": "python3"
  },
  "language_info": {
   "codemirror_mode": {
    "name": "ipython",
    "version": 3
   },
   "file_extension": ".py",
   "mimetype": "text/x-python",
   "name": "python",
   "nbconvert_exporter": "python",
   "pygments_lexer": "ipython3",
   "version": "3.7.6"
  },
  "orig_nbformat": 4
 },
 "nbformat": 4,
 "nbformat_minor": 2
}
